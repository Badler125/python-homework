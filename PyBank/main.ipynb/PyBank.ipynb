{
 "cells": [
  {
   "cell_type": "code",
   "execution_count": 103,
   "id": "stunning-grass",
   "metadata": {},
   "outputs": [],
   "source": [
    "import csv"
   ]
  },
  {
   "cell_type": "code",
   "execution_count": 104,
   "id": "retired-pixel",
   "metadata": {},
   "outputs": [],
   "source": [
    "month_list=[]\n",
    "change_list=[]\n",
    "profit_list=[]\n",
    "with open('budget_data.csv') as budget_file: \n",
    "    bankreader = csv.reader(budget_file, delimiter=',')\n",
    "    next(bankreader)\n",
    "    # create list of months and list of profit/losses\n",
    "    for row in bankreader:\n",
    "        month_list.append(row[0])\n",
    "        profit_list.append(row[1])"
   ]
  },
  {
   "cell_type": "code",
   "execution_count": 105,
   "id": "sought-renaissance",
   "metadata": {},
   "outputs": [],
   "source": [
    "# find net total profit/losses\n",
    "total=0\n",
    "for each_profit in profit_list: \n",
    "    total=total+int(each_profit)"
   ]
  },
  {
   "cell_type": "code",
   "execution_count": 106,
   "id": "driven-casino",
   "metadata": {},
   "outputs": [],
   "source": [
    "# create list of changes in profit/losses\n",
    "for i in range(1, len(profit_list)): \n",
    "    change=int(profit_list[i])-int(profit_list[i-1])\n",
    "    change_list.append(change)"
   ]
  },
  {
   "cell_type": "code",
   "execution_count": 107,
   "id": "three-samba",
   "metadata": {},
   "outputs": [],
   "source": [
    "# calculate average change in profit/losses\n",
    "aggregate_change=0\n",
    "for each_change in change_list: \n",
    "    aggregate_change=aggregate_change+int(each_change)\n",
    "average_change='{:.2f}'.format(aggregate_change/len(change_list))"
   ]
  },
  {
   "cell_type": "code",
   "execution_count": 134,
   "id": "solid-geography",
   "metadata": {},
   "outputs": [],
   "source": [
    "# find greatest increase in profits\n",
    "greatest_increase = [0] \n",
    "for change in change_list:\n",
    "    if change > greatest_increase[0]:\n",
    "        greatest_increase[0]=change\n",
    "        \n",
    "# find date for greatest increase      \n",
    "x=change_list.index(greatest_increase[0])\n",
    "gi_date=month_list[x+1]"
   ]
  },
  {
   "cell_type": "code",
   "execution_count": 132,
   "id": "painful-emission",
   "metadata": {},
   "outputs": [],
   "source": [
    "# find greatest decrease in losses\n",
    "greatest_decrease = [0] \n",
    "for change in change_list:\n",
    "    if change < greatest_decrease[0]:\n",
    "        greatest_decrease[0]=change\n",
    "        \n",
    "# find date for greatest decrease\n",
    "y=change_list.index(greatest_decrease[0])\n",
    "gd_date=month_list[y+1]"
   ]
  },
  {
   "cell_type": "code",
   "execution_count": 110,
   "id": "computational-amino",
   "metadata": {},
   "outputs": [],
   "source": [
    "months=len(month_list)"
   ]
  },
  {
   "cell_type": "code",
   "execution_count": 135,
   "id": "light-relation",
   "metadata": {},
   "outputs": [
    {
     "name": "stdout",
     "output_type": "stream",
     "text": [
      "Financial Analysis\n",
      "--------------------\n",
      "Total Months: 86\n",
      "Total: $38382578\n",
      "Average Change: -2315.12\n",
      "Greatest Increase in Profits: Feb-2012 ($1926159)\n",
      "Greatest Decrease in Profits: Sep-2013 ($-2196167)\n"
     ]
    }
   ],
   "source": [
    "print('Financial Analysis')\n",
    "print('-'*20)\n",
    "print(f'Total Months: {months}')\n",
    "print(f'Total: ${total}')\n",
    "print(f'Average Change: {average_change}')\n",
    "print(f'Greatest Increase in Profits: {gi_date} (${greatest_increase[0]})')\n",
    "print(f'Greatest Decrease in Profits: {gd_date} (${greatest_decrease[0]})')"
   ]
  },
  {
   "cell_type": "code",
   "execution_count": null,
   "id": "liberal-graham",
   "metadata": {},
   "outputs": [],
   "source": []
  }
 ],
 "metadata": {
  "kernelspec": {
   "display_name": "Python 3",
   "language": "python",
   "name": "python3"
  },
  "language_info": {
   "codemirror_mode": {
    "name": "ipython",
    "version": 3
   },
   "file_extension": ".py",
   "mimetype": "text/x-python",
   "name": "python",
   "nbconvert_exporter": "python",
   "pygments_lexer": "ipython3",
   "version": "3.8.5"
  }
 },
 "nbformat": 4,
 "nbformat_minor": 5
}
